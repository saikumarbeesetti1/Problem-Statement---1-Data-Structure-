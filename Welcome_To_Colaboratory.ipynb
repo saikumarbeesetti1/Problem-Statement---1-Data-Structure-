{
  "cells": [
    {
      "cell_type": "markdown",
      "source": [
        "# Given a string str, your task is to write a program which takes a string str as its only input and returns an integer denoting the no of palindromic subsequence (need not necessarily be distinct) which could be formed from the string str.\n",
        "\n",
        "Input Format:\n",
        "\n",
        "The first and only line of input contains string str.\n",
        "\n",
        "Output Format:\n",
        "\n",
        "The output will be an integer denoting the no of palindromic subsequence which could be formed from the string str.\n",
        "\n",
        "Sample Input :\n",
        "\n",
        "abcdef\n",
        "\n",
        "Sample Output :\n",
        "\n",
        "6\n",
        "\n",
        "Explanation:\n",
        "\n",
        "For string 'abcdef' palindromic subsequence are : \"a\" ,\"b\", \"c\" ,\"d\",\"e\",\"f\"\n",
        "\n"
      ],
      "metadata": {
        "id": "Y7_yJ8GyOIEN"
      }
    },
    {
      "cell_type": "code",
      "source": [
        "def countP_subs(sub_str, sub_str_2, s):\n",
        "\n",
        "    if (sub_str > sub_str_2):\n",
        "        #    Invalid substring.\n",
        "        return 0\n",
        "\n",
        "    if (sub_str == sub_str_2):\n",
        "        #    Every single character in the string is a palindrome itself.\n",
        "        return 1\n",
        "\n",
        "    elif (s[sub_str] == s[sub_str_2]):\n",
        "        return (1 + countP_subs(sub_str + 1, sub_str_2, s) + countP_subs(sub_str, sub_str_2 - 1, s))\n",
        "    else:\n",
        "        return ((countP_subs(sub_str + 1, sub_str_2, s) + countP_subs(sub_str, sub_str_2 - 1, s))- countP_subs(sub_str + 1, sub_str_2 - 1, s))\n",
        "def countP_subs1(s):\n",
        "\n",
        "    return countP_subs(0, len(s) - 1, s)\n",
        "\n",
        "countP_subs1(\"ancdef\")"
      ],
      "metadata": {
        "colab": {
          "base_uri": "https://localhost:8080/"
        },
        "outputId": "98cbaa9d-4521-451f-b1c1-8ddca3ed9eb1",
        "id": "yVhLxvhiOKnw"
      },
      "execution_count": 43,
      "outputs": [
        {
          "output_type": "execute_result",
          "data": {
            "text/plain": [
              "6"
            ]
          },
          "metadata": {},
          "execution_count": 43
        }
      ]
    },
    {
      "cell_type": "code",
      "source": [],
      "metadata": {
        "id": "taLbKqi3D_lG"
      },
      "execution_count": null,
      "outputs": []
    },
    {
      "cell_type": "code",
      "source": [],
      "metadata": {
        "id": "_7AMx5_LD_j3"
      },
      "execution_count": null,
      "outputs": []
    }
  ],
  "metadata": {
    "colab": {
      "name": "Welcome To Colaboratory",
      "provenance": []
    },
    "kernelspec": {
      "display_name": "Python 3",
      "name": "python3"
    }
  },
  "nbformat": 4,
  "nbformat_minor": 0
}